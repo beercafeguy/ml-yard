{
 "cells": [
  {
   "cell_type": "markdown",
   "metadata": {},
   "source": [
    "# Install Required libraries"
   ]
  },
  {
   "cell_type": "code",
   "execution_count": 1,
   "metadata": {},
   "outputs": [],
   "source": [
    "!pip install -q kaggle"
   ]
  },
  {
   "cell_type": "markdown",
   "metadata": {},
   "source": [
    "# Autoload .env\n",
    "\n",
    "<b>Note:</b> Set KAGGLE_USERNAME and KAGGLE_KEY in .env file in root directory. These values are available in kaggle.json"
   ]
  },
  {
   "cell_type": "code",
   "execution_count": 1,
   "metadata": {},
   "outputs": [],
   "source": [
    "%load_ext autoreload\n",
    "%autoreload 2\n",
    "%load_ext dotenv\n",
    "%dotenv\n",
    "\n",
    "import os\n",
    "\n",
    "import json\n",
    "import logging\n",
    "import sys\n",
    "\n",
    "import ipytest\n",
    "\n",
    "ipytest.autoconfig(raise_on_error=True)"
   ]
  },
  {
   "cell_type": "code",
   "execution_count": 2,
   "metadata": {},
   "outputs": [],
   "source": [
    "import os\n",
    "\n",
    "KAGGLE_USERNAME = os.environ.get(\"KAGGLE_USERNAME\")\n",
    "KAGGLE_KEY = os.environ.get(\"KAGGLE_KEY\")"
   ]
  },
  {
   "cell_type": "markdown",
   "metadata": {},
   "source": [
    "# Download using kaggle"
   ]
  },
  {
   "cell_type": "code",
   "execution_count": 5,
   "metadata": {},
   "outputs": [
    {
     "name": "stdout",
     "output_type": "stream",
     "text": [
      "Downloading house-prices-advanced-regression-techniques.zip to c:\\Users\\hemch\\git\\ml-yard"
     ]
    },
    {
     "name": "stderr",
     "output_type": "stream",
     "text": [
      "\n",
      "  0%|          | 0.00/199k [00:00<?, ?B/s]\n",
      "100%|██████████| 199k/199k [00:00<00:00, 252kB/s]\n",
      "100%|██████████| 199k/199k [00:00<00:00, 251kB/s]\n"
     ]
    },
    {
     "name": "stdout",
     "output_type": "stream",
     "text": [
      "\n",
      "\n"
     ]
    }
   ],
   "source": [
    "!kaggle competitions download -c house-prices-advanced-regression-techniques"
   ]
  },
  {
   "cell_type": "code",
   "execution_count": 10,
   "metadata": {},
   "outputs": [
    {
     "name": "stdout",
     "output_type": "stream",
     "text": [
      " Volume in drive C is Windows-SSD\n",
      " Volume Serial Number is ECE8-06C9\n",
      "\n",
      " Directory of c:\\Users\\hemch\\git\\ml-yard\n",
      "\n",
      "10-01-2024  20:23            51,520 africa-cup-of-nations-squads-list.zip\n",
      "               1 File(s)         51,520 bytes\n",
      "               0 Dir(s)  107,394,588,672 bytes free\n"
     ]
    }
   ],
   "source": [
    "!dir *.zip"
   ]
  },
  {
   "cell_type": "code",
   "execution_count": 11,
   "metadata": {},
   "outputs": [
    {
     "name": "stdout",
     "output_type": "stream",
     "text": [
      "Downloading santander-customer-satisfaction.zip to c:\\Users\\hemch\\git\\ml-yard\n",
      "\n"
     ]
    },
    {
     "name": "stderr",
     "output_type": "stream",
     "text": [
      "\n",
      "  0%|          | 0.00/8.25M [00:00<?, ?B/s]\n",
      " 12%|█▏        | 1.00M/8.25M [00:01<00:09, 796kB/s]\n",
      " 24%|██▍       | 2.00M/8.25M [00:01<00:04, 1.60MB/s]\n",
      " 36%|███▋      | 3.00M/8.25M [00:01<00:02, 2.59MB/s]\n",
      " 61%|██████    | 5.00M/8.25M [00:01<00:00, 4.82MB/s]\n",
      " 85%|████████▍ | 7.00M/8.25M [00:01<00:00, 6.90MB/s]\n",
      "100%|██████████| 8.25M/8.25M [00:01<00:00, 4.49MB/s]\n"
     ]
    }
   ],
   "source": [
    "!kaggle competitions download -c santander-customer-satisfaction"
   ]
  },
  {
   "cell_type": "code",
   "execution_count": 4,
   "metadata": {},
   "outputs": [
    {
     "name": "stdout",
     "output_type": "stream",
     "text": [
      " Volume in drive C is Windows-SSD\n",
      " Volume Serial Number is ECE8-06C9\n",
      "\n",
      " Directory of c:\\Users\\hemch\\git\\ml-yard\n",
      "\n",
      "\n",
      " Directory of c:\\Users\\hemch\\git\\ml-yard\n",
      "\n",
      "10-01-2024  20:23            51,520 africa-cup-of-nations-squads-list.zip\n",
      "               1 File(s)         51,520 bytes\n",
      "               0 Dir(s)  115,698,794,496 bytes free\n"
     ]
    }
   ],
   "source": [
    "!dir -h *.zip"
   ]
  },
  {
   "cell_type": "code",
   "execution_count": null,
   "metadata": {},
   "outputs": [],
   "source": []
  }
 ],
 "metadata": {
  "kernelspec": {
   "display_name": ".venv",
   "language": "python",
   "name": "python3"
  },
  "language_info": {
   "codemirror_mode": {
    "name": "ipython",
    "version": 3
   },
   "file_extension": ".py",
   "mimetype": "text/x-python",
   "name": "python",
   "nbconvert_exporter": "python",
   "pygments_lexer": "ipython3",
   "version": "3.10.11"
  }
 },
 "nbformat": 4,
 "nbformat_minor": 2
}
