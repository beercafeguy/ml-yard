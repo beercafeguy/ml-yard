{
 "cells": [
  {
   "cell_type": "code",
   "execution_count": 1,
   "metadata": {},
   "outputs": [],
   "source": [
    "import numpy as np"
   ]
  },
  {
   "cell_type": "code",
   "execution_count": 1,
   "metadata": {},
   "outputs": [],
   "source": [
    "class SimpleNearestNeighbor:\n",
    "\n",
    "\n",
    "    def train(self, x, y):\n",
    "        \"\"\"\n",
    "        This just remembers everything it is passed during training\n",
    "        \"\"\"\n",
    "        self.X_train = x\n",
    "        self.y_train = y\n",
    "    \n",
    "\n",
    "    def predict(self,x):\n",
    "        \"\"\"\n",
    "        x =  array of images for prediction where each row contains an image\n",
    "        \"\"\"\n",
    "\n",
    "\n",
    "        num_test = x.shape[0] # number of test images\n",
    "\n",
    "        y_pred = np.zeros(num_test, self.y_train.dtype)\n",
    "\n",
    "\n",
    "        # loop over all the test rows (one image in one iteration)\n",
    "        for i in range(num_test):\n",
    "\n",
    "            distances = np.sum(np.abs(self.X_train - x[i, :]), axis = 1)\n",
    "            min_index = np.agrmin(distances)\n",
    "            y_pred[i] = self.y_train[min_index]\n",
    "        return y_pred\n",
    "\n",
    "    "
   ]
  },
  {
   "cell_type": "code",
   "execution_count": null,
   "metadata": {},
   "outputs": [],
   "source": []
  }
 ],
 "metadata": {
  "kernelspec": {
   "display_name": ".venv",
   "language": "python",
   "name": "python3"
  },
  "language_info": {
   "codemirror_mode": {
    "name": "ipython",
    "version": 3
   },
   "file_extension": ".py",
   "mimetype": "text/x-python",
   "name": "python",
   "nbconvert_exporter": "python",
   "pygments_lexer": "ipython3",
   "version": "3.10.11"
  }
 },
 "nbformat": 4,
 "nbformat_minor": 2
}
